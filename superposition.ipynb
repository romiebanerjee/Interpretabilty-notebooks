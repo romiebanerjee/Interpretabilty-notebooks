{
  "cells": [
    {
      "cell_type": "markdown",
      "metadata": {
        "id": "view-in-github",
        "colab_type": "text"
      },
      "source": [
        "<a href=\"https://colab.research.google.com/github/romiebanerjee/Interpretabilty-notebooks/blob/main/superposition.ipynb\" target=\"_parent\"><img src=\"https://colab.research.google.com/assets/colab-badge.svg\" alt=\"Open In Colab\"/></a>"
      ]
    },
    {
      "cell_type": "code",
      "source": [
        "!pip install transformer_lens"
      ],
      "metadata": {
        "collapsed": true,
        "id": "HhnrAylUv4DY",
        "colab": {
          "base_uri": "https://localhost:8080/"
        },
        "outputId": "a7be1d89-88e2-4fae-c45e-c3f2557b6d42"
      },
      "id": "HhnrAylUv4DY",
      "execution_count": null,
      "outputs": [
        {
          "output_type": "stream",
          "name": "stdout",
          "text": [
            "Requirement already satisfied: transformer_lens in /usr/local/lib/python3.11/dist-packages (2.16.1)\n",
            "Requirement already satisfied: accelerate>=0.23.0 in /usr/local/lib/python3.11/dist-packages (from transformer_lens) (1.10.0)\n",
            "Requirement already satisfied: beartype<0.15.0,>=0.14.1 in /usr/local/lib/python3.11/dist-packages (from transformer_lens) (0.14.1)\n",
            "Requirement already satisfied: better-abc<0.0.4,>=0.0.3 in /usr/local/lib/python3.11/dist-packages (from transformer_lens) (0.0.3)\n",
            "Requirement already satisfied: datasets>=2.7.1 in /usr/local/lib/python3.11/dist-packages (from transformer_lens) (4.0.0)\n",
            "Requirement already satisfied: einops>=0.6.0 in /usr/local/lib/python3.11/dist-packages (from transformer_lens) (0.8.1)\n",
            "Requirement already satisfied: fancy-einsum>=0.0.3 in /usr/local/lib/python3.11/dist-packages (from transformer_lens) (0.0.3)\n",
            "Requirement already satisfied: jaxtyping>=0.2.11 in /usr/local/lib/python3.11/dist-packages (from transformer_lens) (0.3.2)\n",
            "Requirement already satisfied: numpy<2,>=1.24 in /usr/local/lib/python3.11/dist-packages (from transformer_lens) (1.26.4)\n",
            "Requirement already satisfied: pandas>=1.1.5 in /usr/local/lib/python3.11/dist-packages (from transformer_lens) (2.2.2)\n",
            "Requirement already satisfied: rich>=12.6.0 in /usr/local/lib/python3.11/dist-packages (from transformer_lens) (13.9.4)\n",
            "Requirement already satisfied: sentencepiece in /usr/local/lib/python3.11/dist-packages (from transformer_lens) (0.2.1)\n",
            "Requirement already satisfied: torch>=2.6 in /usr/local/lib/python3.11/dist-packages (from transformer_lens) (2.6.0+cu124)\n",
            "Requirement already satisfied: tqdm>=4.64.1 in /usr/local/lib/python3.11/dist-packages (from transformer_lens) (4.67.1)\n",
            "Requirement already satisfied: transformers>=4.51 in /usr/local/lib/python3.11/dist-packages (from transformer_lens) (4.55.1)\n",
            "Requirement already satisfied: transformers-stream-generator<0.0.6,>=0.0.5 in /usr/local/lib/python3.11/dist-packages (from transformer_lens) (0.0.5)\n",
            "Requirement already satisfied: typeguard<5.0,>=4.2 in /usr/local/lib/python3.11/dist-packages (from transformer_lens) (4.4.4)\n",
            "Requirement already satisfied: typing-extensions in /usr/local/lib/python3.11/dist-packages (from transformer_lens) (4.14.1)\n",
            "Requirement already satisfied: wandb>=0.13.5 in /usr/local/lib/python3.11/dist-packages (from transformer_lens) (0.21.1)\n",
            "Requirement already satisfied: packaging>=20.0 in /usr/local/lib/python3.11/dist-packages (from accelerate>=0.23.0->transformer_lens) (25.0)\n",
            "Requirement already satisfied: psutil in /usr/local/lib/python3.11/dist-packages (from accelerate>=0.23.0->transformer_lens) (5.9.5)\n",
            "Requirement already satisfied: pyyaml in /usr/local/lib/python3.11/dist-packages (from accelerate>=0.23.0->transformer_lens) (6.0.2)\n",
            "Requirement already satisfied: huggingface_hub>=0.21.0 in /usr/local/lib/python3.11/dist-packages (from accelerate>=0.23.0->transformer_lens) (0.34.4)\n",
            "Requirement already satisfied: safetensors>=0.4.3 in /usr/local/lib/python3.11/dist-packages (from accelerate>=0.23.0->transformer_lens) (0.6.2)\n",
            "Requirement already satisfied: filelock in /usr/local/lib/python3.11/dist-packages (from datasets>=2.7.1->transformer_lens) (3.18.0)\n",
            "Requirement already satisfied: pyarrow>=15.0.0 in /usr/local/lib/python3.11/dist-packages (from datasets>=2.7.1->transformer_lens) (18.1.0)\n",
            "Requirement already satisfied: dill<0.3.9,>=0.3.0 in /usr/local/lib/python3.11/dist-packages (from datasets>=2.7.1->transformer_lens) (0.3.8)\n",
            "Requirement already satisfied: requests>=2.32.2 in /usr/local/lib/python3.11/dist-packages (from datasets>=2.7.1->transformer_lens) (2.32.3)\n",
            "Requirement already satisfied: xxhash in /usr/local/lib/python3.11/dist-packages (from datasets>=2.7.1->transformer_lens) (3.5.0)\n",
            "Requirement already satisfied: multiprocess<0.70.17 in /usr/local/lib/python3.11/dist-packages (from datasets>=2.7.1->transformer_lens) (0.70.16)\n",
            "Requirement already satisfied: fsspec<=2025.3.0,>=2023.1.0 in /usr/local/lib/python3.11/dist-packages (from fsspec[http]<=2025.3.0,>=2023.1.0->datasets>=2.7.1->transformer_lens) (2025.3.0)\n",
            "Requirement already satisfied: wadler-lindig>=0.1.3 in /usr/local/lib/python3.11/dist-packages (from jaxtyping>=0.2.11->transformer_lens) (0.1.7)\n",
            "Requirement already satisfied: python-dateutil>=2.8.2 in /usr/local/lib/python3.11/dist-packages (from pandas>=1.1.5->transformer_lens) (2.9.0.post0)\n",
            "Requirement already satisfied: pytz>=2020.1 in /usr/local/lib/python3.11/dist-packages (from pandas>=1.1.5->transformer_lens) (2025.2)\n",
            "Requirement already satisfied: tzdata>=2022.7 in /usr/local/lib/python3.11/dist-packages (from pandas>=1.1.5->transformer_lens) (2025.2)\n",
            "Requirement already satisfied: markdown-it-py>=2.2.0 in /usr/local/lib/python3.11/dist-packages (from rich>=12.6.0->transformer_lens) (4.0.0)\n",
            "Requirement already satisfied: pygments<3.0.0,>=2.13.0 in /usr/local/lib/python3.11/dist-packages (from rich>=12.6.0->transformer_lens) (2.19.2)\n",
            "Requirement already satisfied: networkx in /usr/local/lib/python3.11/dist-packages (from torch>=2.6->transformer_lens) (3.5)\n",
            "Requirement already satisfied: jinja2 in /usr/local/lib/python3.11/dist-packages (from torch>=2.6->transformer_lens) (3.1.6)\n",
            "Requirement already satisfied: nvidia-cuda-nvrtc-cu12==12.4.127 in /usr/local/lib/python3.11/dist-packages (from torch>=2.6->transformer_lens) (12.4.127)\n",
            "Requirement already satisfied: nvidia-cuda-runtime-cu12==12.4.127 in /usr/local/lib/python3.11/dist-packages (from torch>=2.6->transformer_lens) (12.4.127)\n",
            "Requirement already satisfied: nvidia-cuda-cupti-cu12==12.4.127 in /usr/local/lib/python3.11/dist-packages (from torch>=2.6->transformer_lens) (12.4.127)\n",
            "Requirement already satisfied: nvidia-cudnn-cu12==9.1.0.70 in /usr/local/lib/python3.11/dist-packages (from torch>=2.6->transformer_lens) (9.1.0.70)\n",
            "Requirement already satisfied: nvidia-cublas-cu12==12.4.5.8 in /usr/local/lib/python3.11/dist-packages (from torch>=2.6->transformer_lens) (12.4.5.8)\n",
            "Requirement already satisfied: nvidia-cufft-cu12==11.2.1.3 in /usr/local/lib/python3.11/dist-packages (from torch>=2.6->transformer_lens) (11.2.1.3)\n",
            "Requirement already satisfied: nvidia-curand-cu12==10.3.5.147 in /usr/local/lib/python3.11/dist-packages (from torch>=2.6->transformer_lens) (10.3.5.147)\n",
            "Requirement already satisfied: nvidia-cusolver-cu12==11.6.1.9 in /usr/local/lib/python3.11/dist-packages (from torch>=2.6->transformer_lens) (11.6.1.9)\n",
            "Requirement already satisfied: nvidia-cusparse-cu12==12.3.1.170 in /usr/local/lib/python3.11/dist-packages (from torch>=2.6->transformer_lens) (12.3.1.170)\n",
            "Requirement already satisfied: nvidia-cusparselt-cu12==0.6.2 in /usr/local/lib/python3.11/dist-packages (from torch>=2.6->transformer_lens) (0.6.2)\n",
            "Requirement already satisfied: nvidia-nccl-cu12==2.21.5 in /usr/local/lib/python3.11/dist-packages (from torch>=2.6->transformer_lens) (2.21.5)\n",
            "Requirement already satisfied: nvidia-nvtx-cu12==12.4.127 in /usr/local/lib/python3.11/dist-packages (from torch>=2.6->transformer_lens) (12.4.127)\n",
            "Requirement already satisfied: nvidia-nvjitlink-cu12==12.4.127 in /usr/local/lib/python3.11/dist-packages (from torch>=2.6->transformer_lens) (12.4.127)\n",
            "Requirement already satisfied: triton==3.2.0 in /usr/local/lib/python3.11/dist-packages (from torch>=2.6->transformer_lens) (3.2.0)\n",
            "Requirement already satisfied: sympy==1.13.1 in /usr/local/lib/python3.11/dist-packages (from torch>=2.6->transformer_lens) (1.13.1)\n",
            "Requirement already satisfied: mpmath<1.4,>=1.1.0 in /usr/local/lib/python3.11/dist-packages (from sympy==1.13.1->torch>=2.6->transformer_lens) (1.3.0)\n",
            "Requirement already satisfied: regex!=2019.12.17 in /usr/local/lib/python3.11/dist-packages (from transformers>=4.51->transformer_lens) (2024.11.6)\n",
            "Requirement already satisfied: tokenizers<0.22,>=0.21 in /usr/local/lib/python3.11/dist-packages (from transformers>=4.51->transformer_lens) (0.21.4)\n",
            "Requirement already satisfied: click!=8.0.0,>=7.1 in /usr/local/lib/python3.11/dist-packages (from wandb>=0.13.5->transformer_lens) (8.2.1)\n",
            "Requirement already satisfied: gitpython!=3.1.29,>=1.0.0 in /usr/local/lib/python3.11/dist-packages (from wandb>=0.13.5->transformer_lens) (3.1.45)\n",
            "Requirement already satisfied: platformdirs in /usr/local/lib/python3.11/dist-packages (from wandb>=0.13.5->transformer_lens) (4.3.8)\n",
            "Requirement already satisfied: protobuf!=4.21.0,!=5.28.0,<7,>=3.19.0 in /usr/local/lib/python3.11/dist-packages (from wandb>=0.13.5->transformer_lens) (5.29.5)\n",
            "Requirement already satisfied: pydantic<3 in /usr/local/lib/python3.11/dist-packages (from wandb>=0.13.5->transformer_lens) (2.11.7)\n",
            "Requirement already satisfied: sentry-sdk>=2.0.0 in /usr/local/lib/python3.11/dist-packages (from wandb>=0.13.5->transformer_lens) (2.34.1)\n",
            "Requirement already satisfied: aiohttp!=4.0.0a0,!=4.0.0a1 in /usr/local/lib/python3.11/dist-packages (from fsspec[http]<=2025.3.0,>=2023.1.0->datasets>=2.7.1->transformer_lens) (3.12.15)\n",
            "Requirement already satisfied: gitdb<5,>=4.0.1 in /usr/local/lib/python3.11/dist-packages (from gitpython!=3.1.29,>=1.0.0->wandb>=0.13.5->transformer_lens) (4.0.12)\n",
            "Requirement already satisfied: hf-xet<2.0.0,>=1.1.3 in /usr/local/lib/python3.11/dist-packages (from huggingface_hub>=0.21.0->accelerate>=0.23.0->transformer_lens) (1.1.7)\n",
            "Requirement already satisfied: mdurl~=0.1 in /usr/local/lib/python3.11/dist-packages (from markdown-it-py>=2.2.0->rich>=12.6.0->transformer_lens) (0.1.2)\n",
            "Requirement already satisfied: annotated-types>=0.6.0 in /usr/local/lib/python3.11/dist-packages (from pydantic<3->wandb>=0.13.5->transformer_lens) (0.7.0)\n",
            "Requirement already satisfied: pydantic-core==2.33.2 in /usr/local/lib/python3.11/dist-packages (from pydantic<3->wandb>=0.13.5->transformer_lens) (2.33.2)\n",
            "Requirement already satisfied: typing-inspection>=0.4.0 in /usr/local/lib/python3.11/dist-packages (from pydantic<3->wandb>=0.13.5->transformer_lens) (0.4.1)\n",
            "Requirement already satisfied: six>=1.5 in /usr/local/lib/python3.11/dist-packages (from python-dateutil>=2.8.2->pandas>=1.1.5->transformer_lens) (1.17.0)\n",
            "Requirement already satisfied: charset-normalizer<4,>=2 in /usr/local/lib/python3.11/dist-packages (from requests>=2.32.2->datasets>=2.7.1->transformer_lens) (3.4.3)\n",
            "Requirement already satisfied: idna<4,>=2.5 in /usr/local/lib/python3.11/dist-packages (from requests>=2.32.2->datasets>=2.7.1->transformer_lens) (3.10)\n",
            "Requirement already satisfied: urllib3<3,>=1.21.1 in /usr/local/lib/python3.11/dist-packages (from requests>=2.32.2->datasets>=2.7.1->transformer_lens) (2.5.0)\n",
            "Requirement already satisfied: certifi>=2017.4.17 in /usr/local/lib/python3.11/dist-packages (from requests>=2.32.2->datasets>=2.7.1->transformer_lens) (2025.8.3)\n",
            "Requirement already satisfied: MarkupSafe>=2.0 in /usr/local/lib/python3.11/dist-packages (from jinja2->torch>=2.6->transformer_lens) (3.0.2)\n",
            "Requirement already satisfied: aiohappyeyeballs>=2.5.0 in /usr/local/lib/python3.11/dist-packages (from aiohttp!=4.0.0a0,!=4.0.0a1->fsspec[http]<=2025.3.0,>=2023.1.0->datasets>=2.7.1->transformer_lens) (2.6.1)\n",
            "Requirement already satisfied: aiosignal>=1.4.0 in /usr/local/lib/python3.11/dist-packages (from aiohttp!=4.0.0a0,!=4.0.0a1->fsspec[http]<=2025.3.0,>=2023.1.0->datasets>=2.7.1->transformer_lens) (1.4.0)\n",
            "Requirement already satisfied: attrs>=17.3.0 in /usr/local/lib/python3.11/dist-packages (from aiohttp!=4.0.0a0,!=4.0.0a1->fsspec[http]<=2025.3.0,>=2023.1.0->datasets>=2.7.1->transformer_lens) (25.3.0)\n",
            "Requirement already satisfied: frozenlist>=1.1.1 in /usr/local/lib/python3.11/dist-packages (from aiohttp!=4.0.0a0,!=4.0.0a1->fsspec[http]<=2025.3.0,>=2023.1.0->datasets>=2.7.1->transformer_lens) (1.7.0)\n",
            "Requirement already satisfied: multidict<7.0,>=4.5 in /usr/local/lib/python3.11/dist-packages (from aiohttp!=4.0.0a0,!=4.0.0a1->fsspec[http]<=2025.3.0,>=2023.1.0->datasets>=2.7.1->transformer_lens) (6.6.4)\n",
            "Requirement already satisfied: propcache>=0.2.0 in /usr/local/lib/python3.11/dist-packages (from aiohttp!=4.0.0a0,!=4.0.0a1->fsspec[http]<=2025.3.0,>=2023.1.0->datasets>=2.7.1->transformer_lens) (0.3.2)\n",
            "Requirement already satisfied: yarl<2.0,>=1.17.0 in /usr/local/lib/python3.11/dist-packages (from aiohttp!=4.0.0a0,!=4.0.0a1->fsspec[http]<=2025.3.0,>=2023.1.0->datasets>=2.7.1->transformer_lens) (1.20.1)\n",
            "Requirement already satisfied: smmap<6,>=3.0.1 in /usr/local/lib/python3.11/dist-packages (from gitdb<5,>=4.0.1->gitpython!=3.1.29,>=1.0.0->wandb>=0.13.5->transformer_lens) (5.0.2)\n"
          ]
        }
      ]
    },
    {
      "cell_type": "code",
      "source": [
        "import numpy as np\n",
        "import matplotlib.pyplot as plt\n",
        "import torch\n",
        "from tqdm import tqdm\n",
        "\n",
        "device = torch.device(\"cuda\" if torch.cuda.is_available() else \"cpu\")\n",
        "print(\"Using device: \", device)"
      ],
      "metadata": {
        "colab": {
          "base_uri": "https://localhost:8080/"
        },
        "id": "AmwC5_rK4nmL",
        "outputId": "84db0ec5-64b1-4eb9-8226-d542a7ccb88a"
      },
      "id": "AmwC5_rK4nmL",
      "execution_count": null,
      "outputs": [
        {
          "output_type": "stream",
          "name": "stdout",
          "text": [
            "Using device:  cpu\n"
          ]
        }
      ]
    },
    {
      "cell_type": "code",
      "source": [
        "import transformer_lens\n",
        "!git clone https://github.com/romiebanerjee/sparse_autoencoder.git\n",
        "%cd sparse_autoencoder\n",
        "import sparse_autoencoder as sae"
      ],
      "metadata": {
        "colab": {
          "base_uri": "https://localhost:8080/"
        },
        "id": "MWA4aTAQv9xm",
        "outputId": "6d7196d1-2457-42a2-8030-bb4c43d4c3fa"
      },
      "id": "MWA4aTAQv9xm",
      "execution_count": null,
      "outputs": [
        {
          "output_type": "stream",
          "name": "stdout",
          "text": [
            "Cloning into 'sparse_autoencoder'...\n",
            "remote: Enumerating objects: 84, done.\u001b[K\n",
            "remote: Counting objects: 100% (48/48), done.\u001b[K\n",
            "remote: Compressing objects: 100% (36/36), done.\u001b[K\n",
            "remote: Total 84 (delta 16), reused 12 (delta 12), pack-reused 36 (from 1)\u001b[K\n",
            "Receiving objects: 100% (84/84), 337.21 KiB | 1.94 MiB/s, done.\n",
            "Resolving deltas: 100% (21/21), done.\n",
            "/content/sparse_autoencoder\n"
          ]
        }
      ]
    },
    {
      "cell_type": "markdown",
      "source": [
        "# Linear Representation Hypothesis & Superposition\n",
        "\n",
        "### Linear Representation Hypothesis  \n",
        "Let $\\mathbf{h} \\in \\mathbb{R}^d $ be an activation vector in a neural network layer. The hypothesis states that **features** $f$ correspond to **linear (or affine) directions** in this space:  \n",
        "\n",
        "$$\n",
        "f(\\mathbf{x}) \\approx \\mathbf{v}_f^\\top \\mathbf{h}(\\mathbf{x}) + b_f\n",
        "$$\n",
        "\n",
        "where:  \n",
        "- $\\mathbf{v}_f \\in \\mathbb{R}^d$ is the **feature direction**,  \n",
        "- $b_f \\in \\mathbb{R}$ is a bias term.  \n",
        "\n",
        "This implies **linear separability** of features in activation space, enabling methods like **probing** and **dictionary learning**.\n",
        "\n",
        "---\n",
        "\n",
        "### Superposition Principle  \n",
        "Networks often represent **more features than dimensions** $N \\gg d $ by exploiting:  \n",
        "\n",
        "1. **Sparsity**: For a given input, only a small subset of features $ \\{f_k\\} $ are active.  \n",
        "2. **Approximate Orthogonality**: Feature directions $\\mathbf{v}_{f_i} $ are quasi-orthogonal $\\mathbf{v}_{f_i}^\\top \\mathbf{v}_{f_j} \\approx 0 $ when semantically unrelated.  \n",
        "\n",
        "The activation vector thus decomposes as:  \n",
        "\n",
        "$$\n",
        "\\mathbf{h} = \\sum_{k=1}^N a_k \\mathbf{v}_{f_k} + \\boldsymbol{\\epsilon}\n",
        "$$\n",
        "\n",
        "where:  \n",
        "- $a_k$ are sparse coefficients $\\| \\mathbf{a} \\|_0 \\ll N $,  \n",
        "- $\\boldsymbol{\\epsilon}$ is residual noise.  \n",
        "\n",
        "This resembles **sparse coding** or an **overcomplete basis**, where interference is minimized via geometric constraints.\n",
        "\n",
        "---\n",
        "\n",
        "### Key Implications  \n",
        "- **Polysemanticity**: Neurons may encode multiple features (non-orthogonal $\\mathbf{v}_{f_i} $.  \n",
        "- **Capacity-Efficiency Tradeoff**: More features $N$) → higher interference $\\mathbb{E}[\\mathbf{v}_i^\\top \\mathbf{v}_j] > 0 $.  \n",
        "- **Mechanistic Interpretability**: Reverse-engineering reduces to identifying $\\mathbf{v}_f $ and their nonlinear interactions."
      ],
      "metadata": {
        "id": "_ZtmLhs8xodI"
      },
      "id": "_ZtmLhs8xodI"
    },
    {
      "cell_type": "markdown",
      "source": [
        "## Mathematical Foundations of Superposition: Johnson-Lindenstrauss and Random Vectors\n",
        "\n",
        "A key mathematical principle enabling the superposition of many near-orthogonal features in neural networks is the Johnson-Lindenstrauss (JL) Lemma, which guarantees that a set of vectors in high-dimensional space can be randomly projected into a lower-dimensional space while approximately preserving their pairwise distances (and thus angles between them).\n",
        "\n",
        "**Johnson-Lindenstrauss Flattening Lemma:**\n",
        "For any $0 < \\epsilon < 1$ and any integer $N$, let $d$ be a positive integer satisfying:\n",
        "$$\n",
        "d \\geq \\frac{4\\ln N}{\\epsilon^2/2 - \\epsilon^3/3}$$\n",
        "\n",
        "Then for any set $V$ of $N$ points in $\\mathbb{R}^D$, there exists a map $f: \\mathbb{R}^D \\to \\mathbb{R}^d$ such that for all $\\mathbf{u}, \\mathbf{v} \\in V$:\n",
        "$$\n",
        "(1-\\epsilon)\\|\\mathbf{u}-\\mathbf{v}\\|^2 \\leq \\|f(\\mathbf{u})-f(\\mathbf{v})\\|^2 \\leq (1+\\epsilon)\\|\\mathbf{u}-\\mathbf{v}\\|^2\n",
        "$$\n",
        "\n",
        "## Implications for Superposition\n",
        "\n",
        "- **Quasi-Orthogonality**: In high dimensions ($d \\gg \\ln N$), random vectors are likely to be nearly orthogonal:\n",
        "$$\n",
        "\\mathbb{E}[\\langle \\mathbf{v}_i, \\mathbf{v}_j \\rangle] \\approx 0 \\quad \\text{for} \\quad i \\neq j\n",
        "$$\n",
        "    \n",
        "- **Capacity Scaling**: The maximum number $N$ of $\\epsilon$-orthogonal vectors grows exponentially with dimension $d$:\n",
        "$$\n",
        "N \\sim \\exp(c_\\epsilon d)\n",
        "$$\n",
        "where $c_\\epsilon$ is a constant depending on the orthogonality tolerance $\\epsilon$.\n",
        "\n"
      ],
      "metadata": {
        "id": "z4YE74Ix1OoB"
      },
      "id": "z4YE74Ix1OoB"
    },
    {
      "cell_type": "markdown",
      "source": [
        "## Simple Experiment Setup\n",
        "\n",
        "To empirically verify this phenomenon, we can:\n",
        "\n",
        "- Generate $N=10000$ random unit vectors in $\\mathbb{R}^d$ for varying $d$ (e.g., $d \\in \\{2,10,100,1000, 10000\\}$)\n",
        "    \n",
        "- Compute the pairwise cosine similarities:\n",
        "$$\n",
        "\\cos \\theta_{ij} = \\frac{\\mathbf{v}_i^\\top \\mathbf{v}_j}{\\|\\mathbf{v}_i\\|\\|\\mathbf{v}_j\\|}\n",
        "$$\n",
        "    \n",
        "- Observe that as $d$ increases:\n",
        "  - The histogram of $\\cos \\theta_{ij}$ concentrates around 0\n",
        "  - The maximum absolute inner product $\\max_{i \\neq j} |\\cos \\theta_{ij}|$ decreases as $O\\left(\\sqrt{\\frac{\\ln N}{d}}\\right)$\n",
        "\n",
        "This demonstrates why neural networks can pack many weakly interfering features in high-dimensional activation spaces - the geometry naturally supports near-orthogonal representations.\n",
        "  "
      ],
      "metadata": {
        "id": "wvXaugjo4HYj"
      },
      "id": "wvXaugjo4HYj"
    },
    {
      "cell_type": "markdown",
      "source": [],
      "metadata": {
        "id": "VrPyirQK4xFO"
      },
      "id": "VrPyirQK4xFO"
    },
    {
      "cell_type": "code",
      "execution_count": null,
      "metadata": {
        "id": "49vlahth48CZ"
      },
      "outputs": [],
      "source": [
        "\n",
        "dim_list  = [2, 10, 100, 1000, 10000]\n",
        "num_vecs = 10000\n",
        "cos_sims = []\n",
        "for dim in dim_list:\n",
        "    big_matrix_random = torch.randn(num_vecs, dim)\n",
        "    dot_products = big_matrix_random @ big_matrix_random.T\n",
        "    norms = torch.sqrt(torch.diag(dot_products))\n",
        "    cos_sim = dot_products/ torch.outer(norms, norms)\n",
        "    self_orthogonality_mask =  ~(torch.eye(num_vecs, num_vecs).bool())\n",
        "    cos_sim = cos_sim[self_orthogonality_mask]\n",
        "    cos_sims.append(cos_sim)"
      ],
      "id": "49vlahth48CZ"
    },
    {
      "cell_type": "code",
      "execution_count": null,
      "metadata": {
        "outputId": "4decc6f4-22c5-40e6-e863-4331d8cded51",
        "colab": {
          "base_uri": "https://localhost:8080/",
          "height": 872
        },
        "id": "Qq7BcbX7DP6K"
      },
      "outputs": [
        {
          "output_type": "display_data",
          "data": {
            "text/plain": [
              "<Figure size 1000x1000 with 2 Axes>"
            ],
            "image/png": "[encoded data removed]"
          },
          "metadata": {}
        }
      ],
      "source": [
        "fig, axes = plt.subplots(2, figsize = (10,10))\n",
        "for cos_sim, dim in zip(cos_sims, dim_list):\n",
        "  axes[0].hist(cos_sim.numpy().ravel(), bins = 1000, range = (-1,1), alpha = 0.5, label = f\"dim = {dim}\" )\n",
        "axes[0].grid(1)\n",
        "axes[0].legend()\n",
        "axes[0].set_xlabel(\"Cosine Similarity\")\n",
        "axes[0].set_ylabel(\"Frequency\")\n",
        "axes[0].set_title(\"Cosine Similarity Distribution\")\n",
        "\n",
        "axes[1].plot([torch.max(torch.abs(cos_sim)) for cos_sim in cos_sims], label = 'max cos sim')\n",
        "axes[1].plot([torch.mean(torch.abs(cos_sim)) for cos_sim in cos_sims], label = 'mean cos sim')\n",
        "axes[1].set_xlabel('log_10(dim)')\n",
        "axes[1].set_xticks([np.log10(dim) for dim in dim_list])\n",
        "axes[1].set_ylabel('cos sim')\n",
        "# axes[1].set_title(\"Mean cosine similarity\")\n",
        "axes[1].grid(1)\n",
        "axes[1].legend()\n",
        "plt.show()"
      ],
      "id": "Qq7BcbX7DP6K"
    },
    {
      "cell_type": "markdown",
      "source": [],
      "metadata": {
        "id": "gsmao_99Fm2h"
      },
      "id": "gsmao_99Fm2h"
    },
    {
      "cell_type": "markdown",
      "source": [
        "# Experimental Setup with OpenAI's GPT2-small SAE\n",
        "\n",
        "For this investigation, we'll analyze feature orthogonality using the **OpenAI Sparse Autoencoder (SAE)** trained on GPT-2 Small's activations. Key specifications from their implementation:\n",
        "\n",
        "*Scaling and evaluating sparse autoencoders, OPENAI* [paper](https://arxiv.org/pdf/2406.04093v1)  [repo](https://arxiv.org/pdf/2406.04093v1)\n",
        "\n",
        "- **Input**: Residual stream of GPT-2 small, training context length  = 64\n",
        "- **Baseline ReLU autoencoder**: For an input vector $x\\in \\mathbb{R}^d$, the encoder and decoder are defined by:\n",
        "$$z = ReLU(Wenc(x − b_{pre}) + b_{enc})$$\n",
        "$$ˆx = W_{dec}z + b_{pre}$$ with $W_{enc} ∈ \\mathbb{R}^{n\\times d}, b_{enc} \\in \\mathbb{R^n}, W_{dec} \\in \\mathbb{R}^{d \\times n},$ and $b_{pre} ∈ \\mathbb{R}^d$. The training loss is defined by\n",
        "$$L = ||x − \\hat{x}||^2 + λ||z||_1,$$ where $||x − \\hat{x}||^2$\n",
        " is the reconstruction MSE, $||z||_1$ is an L1 penalty promoting\n",
        "sparsity in latent activations $z$, and $\\lambda$ is a hyperparameter that needs to be tuned\n",
        "- **TopK** K-sparse autoencoder defined usig TopK activation function: The ecoder is modified as $$z = TopK(W_{enc}(x − b_{pre}).$$ removing the need for $L_1$ penalty from the loss functions\n",
        "- **Expansion Factor**: ~42× (768  → 32,768 dimensional latent space)\n",
        "- **Sparsity**: k = 32"
      ],
      "metadata": {
        "id": "ix-Wkr5Wh91z"
      },
      "id": "ix-Wkr5Wh91z"
    },
    {
      "cell_type": "code",
      "execution_count": null,
      "id": "f5f208fb",
      "metadata": {
        "id": "f5f208fb"
      },
      "outputs": [],
      "source": [
        "model = transformer_lens.HookedTransformer.from_pretrained(\"gpt2\", center_writing_weights=False).to(device)"
      ]
    },
    {
      "cell_type": "code",
      "execution_count": null,
      "id": "68d33ed3",
      "metadata": {
        "id": "68d33ed3"
      },
      "outputs": [],
      "source": [
        "def get_layer_name(location: str, layer_index:int):\n",
        "    transformer_lens_loc = {\n",
        "        \"mlp_post_act\": f\"blocks.{layer_index}.mlp.hook_post\",\n",
        "        \"resid_delta_attn\": f\"blocks.{layer_index}.hook_attn_out\",\n",
        "        \"resid_post_attn\": f\"blocks.{layer_index}.hook_resid_mid\",\n",
        "        \"resid_delta_mlp\": f\"blocks.{layer_index}.hook_mlp_out\",\n",
        "        \"resid_post_mlp\": f\"blocks.{layer_index}.hook_resid_post\",\n",
        "    }[location]\n",
        "\n",
        "    return transformer_lens_loc"
      ]
    },
    {
      "cell_type": "code",
      "source": [
        "from IPython.display import Image\n",
        "img_url = \"https://transformerlensorg.github.io/TransformerLens/_downloads/ee2d5f417d3b64d0f61ec8a9ede5f15b/TransformerLens_Diagram.svg\"\n",
        "display(Image(url=img_url, width = 2000))"
      ],
      "metadata": {
        "id": "FcMRa-_8PYZQ"
      },
      "id": "FcMRa-_8PYZQ",
      "execution_count": null,
      "outputs": []
    },
    {
      "cell_type": "code",
      "source": [
        "input = \"You will rejoice to hear that no disaster has accompanied the commencement of an enterprise which you have regarded with such evil forebodings.\"\n",
        "input_2 =  \"I arrived here yesterday, and my first task is to assure my dear sister of my welfare and increasing confidence in the success of my undertaking. \"\n",
        "tokens = model.to_tokens(input)  # (1, n_tokens)\n",
        "with torch.no_grad():\n",
        "    logits, activation_cache = model.run_with_cache(tokens, remove_batch_dim=False)\n"
      ],
      "metadata": {
        "id": "pXRpxS1UwnDD"
      },
      "id": "pXRpxS1UwnDD",
      "execution_count": null,
      "outputs": []
    },
    {
      "cell_type": "code",
      "execution_count": null,
      "id": "15bf011d",
      "metadata": {
        "id": "15bf011d"
      },
      "outputs": [],
      "source": [
        "'''download SAE weights'''\n",
        "import blobfile as bf\n",
        "layer_index = 10\n",
        "location = \"resid_post_mlp\"\n",
        "\n",
        "with bf.BlobFile(sae.paths.v5_32k(location, layer_index), mode=\"rb\") as f:\n",
        "    print(f\"location = {location}, layer_index = {layer_index}\")\n",
        "    print(f\"fetching weights for SAE at layer: {get_layer_name(location, layer_index),} from:  {sae.paths.v5_32k(location, layer_index)}\")\n",
        "    state_dict = torch.load(f)\n"
      ]
    },
    {
      "cell_type": "code",
      "source": [
        "autoencoder = sae.Autoencoder.from_state_dict(state_dict).to(device)\n",
        "\n",
        "layer_name = get_layer_name(location, layer_index)\n",
        "input_tensor = activation_cache[layer_name]\n",
        "\n",
        "with torch.no_grad():\n",
        "    latent_activations, info = autoencoder.encode(input_tensor)\n",
        "    reconstructed_activations = autoencoder.decode(latent_activations, info)\n",
        "\n",
        "print(f'input tensor: {input_tensor.shape}')\n",
        "print(f'latent activations: {latent_activations.shape}')\n",
        "print(f'reconstructed activations: {reconstructed_activations.shape}')"
      ],
      "metadata": {
        "id": "cTzCktpawn5P"
      },
      "id": "cTzCktpawn5P",
      "execution_count": null,
      "outputs": []
    },
    {
      "cell_type": "code",
      "execution_count": null,
      "id": "059dd822",
      "metadata": {
        "id": "059dd822"
      },
      "outputs": [],
      "source": [
        "def random_row_subset(tensor, r):\n",
        "    R = tensor.size(0)\n",
        "    # Generate random indices without replacement\n",
        "    rand_indices = torch.randperm(R)[:r]\n",
        "    # Select the rows\n",
        "    subset = tensor[rand_indices]\n",
        "    return subset"
      ]
    },
    {
      "cell_type": "markdown",
      "source": [
        "Here are the key expected differences between SAE-learned features and random vectors:\n"
      ],
      "metadata": {
        "id": "jnD6s_xuznqk"
      },
      "id": "jnD6s_xuznqk"
    },
    {
      "cell_type": "markdown",
      "source": [
        "## Almost Orthogonality\n"
      ],
      "metadata": {
        "id": "2EKTIiid4kku"
      },
      "id": "2EKTIiid4kku"
    },
    {
      "cell_type": "code",
      "execution_count": null,
      "id": "160a6830",
      "metadata": {
        "id": "160a6830"
      },
      "outputs": [],
      "source": [
        "\n",
        "# encoder_weights = state_dict['encoder.weight']\n",
        "# decoder_weights = state_dict['decoder.weight']\n",
        "\n",
        "# print(encoder_weights.size())\n",
        "# print(decoder_weights.size())\n",
        "\n",
        "autoencoder.eval()\n",
        "\n",
        "decoder_weights = autoencoder.decoder.weight\n",
        "res_dim, sae_dim = decoder_weights.shape\n",
        "print(f'decoder weights shape: {decoder_weights.shape}')\n",
        "\n",
        "\n",
        "big_matrix = decoder_weights.T\n",
        "big_matrix = random_row_subset(big_matrix, r = 10000)\n",
        "\n",
        "num_vecs, dim = big_matrix.shape\n",
        "dot_products = big_matrix@big_matrix.T\n",
        "norms = torch.sqrt(torch.diag(dot_products))\n",
        "\n",
        "outer_norms =  torch.outer(norms, norms)\n",
        "\n",
        "cos_sim = dot_products/outer_norms\n",
        "self_orthogonality_mask =  ~(torch.eye(num_vecs, num_vecs).bool())\n",
        "cos_sim = cos_sim[self_orthogonality_mask]\n",
        "plt.hist(cos_sim.detach().cpu().ravel(), bins = 1000, range = (-1,1), alpha = 0.7, label = 'SAE features')\n",
        "\n",
        "#------random SAE weights------\n",
        "big_matrix_random = torch.randn(num_vecs, dim)\n",
        "dot_products_random = big_matrix_random @ big_matrix_random.T\n",
        "norms_random = torch.sqrt(torch.diag(dot_products_random))\n",
        "cos_sim_random = dot_products_random/ torch.outer(norms_random, norms_random)\n",
        "cos_sim_random = cos_sim_random[self_orthogonality_mask]\n",
        "\n",
        "plt.hist(cos_sim_random.detach().cpu().ravel(), bins = 1000, range = (-1,1), alpha = 0.7, label = 'random features')\n",
        "plt.title(\"Cosine Similarity Distribution\")\n",
        "plt.xlabel(\"Cosine Similarity\")\n",
        "plt.ylabel(\"Frequency\")\n",
        "plt.legend()\n",
        "plt.grid(1)\n",
        "plt.show()"
      ]
    },
    {
      "cell_type": "markdown",
      "source": [
        "# Sparsity Structure\n",
        "\n",
        "- Random features: Bernoulli-like activation patterns\n",
        "\n",
        "- SAE features: Only ~300/30k features active per token\n"
      ],
      "metadata": {
        "id": "Nb6oi8-m38C9"
      },
      "id": "Nb6oi8-m38C9"
    },
    {
      "cell_type": "code",
      "execution_count": null,
      "id": "1a0168f3",
      "metadata": {
        "id": "1a0168f3"
      },
      "outputs": [],
      "source": [
        "#Activation for the final token in the input text\n",
        "act = activation_cache[layer_name][0, -1, :]\n",
        "print(f\"token activation shape: {act.shape}\")\n",
        "\n",
        "\n",
        "fig, axes = plt.subplots(2, figsize = (20,10))\n",
        "# x = np.linspace(0, dim, dim)\n",
        "\n",
        "#dot product of token activation with all SAE features\n",
        "act_dots = act @ decoder_weights\n",
        "acts_norm = act.norm(p=2, dim=-1)\n",
        "decoder_norm = decoder_weights.norm(p=2, dim = 0)\n",
        "#cosine similarity of activation with all the SAE features\n",
        "act_cos_sim = (act_dots)/acts_norm*decoder_norm\n",
        "\n",
        "mask = act_cos_sim > 0.\n",
        "\n",
        "print(f'SAE active features = {torch.sum(mask)}/{sae_dim}')\n",
        "sparsity = torch.sum(mask)/sae_dim\n",
        "print(f'sparsity = {sparsity}')\n",
        "\n",
        "decoder_weights_random = torch.randn(decoder_weights.shape).to(device)\n",
        "act_dots_random = act @ decoder_weights_random\n",
        "decoder_random_norm = decoder_weights_random.norm(p=2, dim=0)\n",
        "act_cos_sim_random = act_dots_random/acts_norm*decoder_random_norm\n",
        "\n",
        "mask = act_cos_sim_random > 0.\n",
        "print(f'random active features = {torch.sum(mask)}/{sae_dim}')\n",
        "\n",
        "\n",
        "axes[0].hist(act_cos_sim.detach().cpu(), bins = 1000, range = (-1,1), label = 'SAE features')\n",
        "axes[1].hist(act_cos_sim_random.detach().cpu(), bins = 1000, range = (-1,1), label = 'random features')\n",
        "\n",
        "axes[0].axvline(x=0., color='r', linestyle='--')\n",
        "axes[1].axvline(x=0., color='r', linestyle='--')\n",
        "plt.grid(True)\n",
        "axes[0].grid(True)\n",
        "axes[1].grid(True)\n",
        "axes[0].legend()\n",
        "axes[1].legend()\n",
        "axes[0].set_xlabel(\"cosine similarity with SAE features\")\n",
        "axes[1].set_xlabel(\"cosine similarity with random features\")\n",
        "plt.ylabel(\"Frequency\")\n",
        "fig.show()\n"
      ]
    },
    {
      "cell_type": "code",
      "source": [
        "fig, axes = plt.subplots(2, figsize = (20,10))\n",
        "axes[0].hist(act_dots.detach().cpu(), bins = 1000, label = 'SAE features')\n",
        "axes[1].hist(act_dots_random.detach().cpu(), bins = 1000, label = 'random features')\n",
        "\n",
        "axes[0].axvline(x=0., color='r', linestyle='--')\n",
        "axes[1].axvline(x=0., color='r', linestyle='--')\n",
        "\n",
        "axes[0].grid(True)\n",
        "axes[1].grid(True)\n",
        "axes[0].legend()\n",
        "axes[1].legend()\n",
        "axes[0].set_xlabel(\"activations with SAE features\")\n",
        "axes[1].set_xlabel(\"activations with random features\")\n",
        "axes[0].set_ylabel(\"Frequency\")\n",
        "axes[1].set_ylabel(\"Frequency\")\n",
        "fig.show()"
      ],
      "metadata": {
        "id": "kGs227GE91KM"
      },
      "id": "kGs227GE91KM",
      "execution_count": null,
      "outputs": []
    },
    {
      "cell_type": "code",
      "execution_count": null,
      "id": "42a7a50f",
      "metadata": {
        "id": "42a7a50f"
      },
      "outputs": [],
      "source": [
        "#Find the SAE latent with top activation\n",
        "top_feature = decoder_weights[:, torch.argmax(act_dots)]"
      ]
    },
    {
      "cell_type": "markdown",
      "source": [
        "## Summarize sparsity over all layers"
      ],
      "metadata": {
        "id": "xFasj4P0eLIv"
      },
      "id": "xFasj4P0eLIv"
    },
    {
      "cell_type": "markdown",
      "source": [
        "## SAE version `v5_32k` (TopK sparsity)\n",
        "- Number of autoencoder latents: 2**15 = 32768\n",
        "- Number of training tokens:  TODO\n",
        "- Activation function: **TopK(32)**\n",
        "- L1 regularization strength: n/a\n",
        "- Layer normed inputs: true"
      ],
      "metadata": {
        "id": "jHOCCC5QFmZk"
      },
      "id": "jHOCCC5QFmZk"
    },
    {
      "cell_type": "code",
      "source": [
        "\n",
        "layers = range(12)\n",
        "# locations = [\"resid_delta_attn\", \"resid_post_attn\", \"resid_delta_mlp\", \"resid_post_mlp\"]\n",
        "locations = [\"resid_post_mlp\"]\n",
        "\n",
        "state_dicts_v5_32k = dict()\n",
        "for layer in layers:\n",
        "  for location in locations:\n",
        "    with bf.BlobFile(sae.paths.v5_32k(location, layer), mode=\"rb\") as f:\n",
        "        print(f\"fetching weights for SAE at layer: {get_layer_name(location, layer),} from:  {sae.paths.v5_32k(location, layer)}\")\n",
        "        state_dict = torch.load(f)\n",
        "        state_dicts_v5_32k[get_layer_name(location, layer)] = state_dict"
      ],
      "metadata": {
        "collapsed": true,
        "id": "JfPBnz1SeO9h"
      },
      "id": "JfPBnz1SeO9h",
      "execution_count": null,
      "outputs": []
    },
    {
      "cell_type": "code",
      "source": [
        "from tqdm import tqdm\n",
        "\n",
        "def get_scores(state_dict_version: dict) -> dict:\n",
        "  scores = {'layer_names': [], 'reconstruction_losses': [], 'sparsity_scores': []}\n",
        "\n",
        "  for layer_name, state_dict in tqdm(state_dict_version.items()):\n",
        "    scores['layer_names'].append(layer_name)\n",
        "\n",
        "    input_tensor = activation_cache[layer_name]\n",
        "    act = activation_cache[layer_name][0, -1, :]\n",
        "\n",
        "    try:\n",
        "      autoencoder = sae.Autoencoder.from_state_dict(state_dict).to(device)\n",
        "      input_tensor = activation_cache[layer_name]\n",
        "\n",
        "      with torch.no_grad():\n",
        "          latent_activations, info = autoencoder.encode(input_tensor)\n",
        "          reconstructed_activations = autoencoder.decode(latent_activations, info)\n",
        "\n",
        "      reconstruction_loss = (reconstructed_activations[0,-1,:] - input_tensor[0,-1,:]).norm(p=2)\n",
        "      # print(f'reconstruction loss: {reconstruction_loss}')\n",
        "      scores['reconstruction_losses'].append(reconstruction_loss)\n",
        "\n",
        "      decoder_weights = autoencoder.decoder.weight\n",
        "\n",
        "    except Exception as err:\n",
        "      print(f'Exception in layer {layer_name}, Error: {err}')\n",
        "\n",
        "      scores['reconstruction_losses'].append(torch.tensor(np.nan))\n",
        "\n",
        "      decoder_weights = state_dict['decoder.weight'].to(device)\n",
        "\n",
        "    res_dim, sae_dim = decoder_weights.shape\n",
        "\n",
        "    act_dots = act @ decoder_weights\n",
        "    mask  = act_dots > 0.\n",
        "    sparsity = torch.sum(mask)\n",
        "    # print(f'sparsity = {sparsity}')\n",
        "    scores['sparsity_scores'].append(sparsity)\n",
        "\n",
        "  return scores\n"
      ],
      "metadata": {
        "collapsed": true,
        "id": "O7sxt2I1lAnE"
      },
      "id": "O7sxt2I1lAnE",
      "execution_count": null,
      "outputs": []
    },
    {
      "cell_type": "code",
      "source": [
        "v5_32k_scores = get_scores(state_dicts_v5_32k)"
      ],
      "metadata": {
        "id": "HkmSiRwYx6OC"
      },
      "id": "HkmSiRwYx6OC",
      "execution_count": null,
      "outputs": []
    },
    {
      "cell_type": "code",
      "source": [
        "sparsity_sores = v5_32k_scores['sparsity_scores']\n",
        "layer_names = v5_32k_scores['layer_names']\n",
        "reconstruction_losses = v5_32k_scores['reconstruction_losses']\n",
        "\n",
        "fig, axes = plt.subplots(2, figsize = (10,10))\n",
        "x = range(len(layer_names))\n",
        "axes[0].plot(x, [r.detach().cpu() for r in reconstruction_losses], label = 'reconstruction loss', c  ='r')\n",
        "axes[1].plot(x , [ss.detach().cpu() for ss in sparsity_sores], label = 'L0 sparsity')\n",
        "axes[0].grid(1)\n",
        "axes[1].grid(1)\n",
        "axes[0].legend()\n",
        "axes[1].legend()\n",
        "axes[1].set_xticks(x)\n",
        "axes[1].set_xticks(x)\n",
        "axes[1].set_xticklabels(layer_names, rotation = 90)\n",
        "plt.show()"
      ],
      "metadata": {
        "id": "6kBNxH1voVBD"
      },
      "id": "6kBNxH1voVBD",
      "execution_count": null,
      "outputs": []
    },
    {
      "cell_type": "code",
      "source": [
        "plt.scatter(y = [r.detach().cpu() for r in reconstruction_losses], x = [ss.detach().cpu() for ss in sparsity_sores], c= 'g')\n",
        "plt.ylabel('reconstruction loss')\n",
        "plt.xlabel('L0 sparsity')\n",
        "plt.grid(1)"
      ],
      "metadata": {
        "id": "1foVZZl4o8-7"
      },
      "id": "1foVZZl4o8-7",
      "execution_count": null,
      "outputs": []
    },
    {
      "cell_type": "code",
      "source": [
        "del state_dicts_v5_32k"
      ],
      "metadata": {
        "id": "_XZlzrrUIHTF"
      },
      "id": "_XZlzrrUIHTF",
      "execution_count": null,
      "outputs": []
    },
    {
      "cell_type": "markdown",
      "source": [
        "## SAE version `v1` (L1 sparsity)\n",
        "- autoencoder latents: 2*815 = 32768\n",
        "- number of training tokens: ~64M\n",
        "- Activation function ReLU\n",
        "- L1 reg strength: 0.01\n",
        "\n",
        "\n"
      ],
      "metadata": {
        "id": "OIyYGtsQtcPg"
      },
      "id": "OIyYGtsQtcPg"
    },
    {
      "cell_type": "code",
      "source": [
        "layers = range(12)\n",
        "locations = [\"resid_delta_mlp\"]\n",
        "\n",
        "state_dicts_v1 = dict()\n",
        "for layer in layers:\n",
        "  for location in locations:\n",
        "    with bf.BlobFile(sae.paths.v1(location, layer), mode=\"rb\") as f:\n",
        "        print(f\"fetching weights for SAE at layer: {get_layer_name(location, layer)} from:  {sae.paths.v1(location, layer)}\")\n",
        "        state_dict = torch.load(f)\n",
        "        state_dicts_v1[get_layer_name(location, layer)] = state_dict"
      ],
      "metadata": {
        "collapsed": true,
        "id": "5qxm7TpSsEuv"
      },
      "id": "5qxm7TpSsEuv",
      "execution_count": null,
      "outputs": []
    },
    {
      "cell_type": "code",
      "source": [
        "v1_scores  = get_scores(state_dicts_v1)"
      ],
      "metadata": {
        "collapsed": true,
        "id": "djwzlJU4v9Sq"
      },
      "id": "djwzlJU4v9Sq",
      "execution_count": null,
      "outputs": []
    },
    {
      "cell_type": "code",
      "source": [
        "sparsity_sores = v1_scores['sparsity_scores']\n",
        "layer_names = v1_scores['layer_names']\n",
        "reconstruction_losses = v1_scores['reconstruction_losses']\n",
        "\n",
        "fig, axes = plt.subplots(2, figsize = (10,10))\n",
        "x = range(len(layer_names))\n",
        "# axes[0].plot(x, [r.detach().cpu() for r in reconstruction_losses], label = 'reconstruction loss', c  ='r')\n",
        "axes[1].plot(x , [ss.detach().cpu() for ss in sparsity_sores], label = 'L0 sparsity')\n",
        "axes[0].grid(1)\n",
        "axes[1].grid(1)\n",
        "axes[0].legend()\n",
        "axes[1].legend()\n",
        "axes[1].set_xticks(x)\n",
        "axes[1].set_xticks(x)\n",
        "axes[1].set_xticklabels(layer_names, rotation = 90)\n",
        "plt.show()"
      ],
      "metadata": {
        "id": "G52TGUnHwNl7"
      },
      "id": "G52TGUnHwNl7",
      "execution_count": null,
      "outputs": []
    },
    {
      "cell_type": "code",
      "source": [
        "plt.scatter(y = [r.detach().cpu() for r in reconstruction_losses], x = [ss.detach().cpu() for ss in sparsity_sores], c= 'g')\n",
        "plt.ylabel('reconstruction loss')\n",
        "plt.xlabel('sparsity')\n",
        "plt.grid(1)"
      ],
      "metadata": {
        "id": "THKMft8MwVno"
      },
      "execution_count": null,
      "outputs": [],
      "id": "THKMft8MwVno"
    },
    {
      "cell_type": "code",
      "source": [
        "del state_dicts_v1"
      ],
      "metadata": {
        "id": "t3J7dXRxIOtg"
      },
      "id": "t3J7dXRxIOtg",
      "execution_count": null,
      "outputs": []
    },
    {
      "cell_type": "markdown",
      "source": [
        "## SAE version `v5_128k`\n",
        "- no. of autoencoder latents: 2**17 = 131072\n",
        "- TopK(32)"
      ],
      "metadata": {
        "id": "W2MN4ewF3krg"
      },
      "id": "W2MN4ewF3krg"
    },
    {
      "cell_type": "code",
      "source": [
        "layers = range(12)\n",
        "# locations = [\"resid_delta_attn\", \"resid_delta_mlp\", \"resid_post_attn\", \"resid_post_mlp\"]\n",
        "locations = [\"resid_post_mlp\"]\n",
        "state_dicts_v5_128k = dict()\n",
        "for layer in layers:\n",
        "  for location in locations:\n",
        "    with bf.BlobFile(sae.paths.v5_128k(location, layer), mode=\"rb\") as f:\n",
        "        print(f\"fetching weights for SAE at layer: {get_layer_name(location, layer),} from:  {sae.paths.v5_128k(location, layer)}\")\n",
        "        state_dict = torch.load(f)\n",
        "        state_dicts_v5_128k[get_layer_name(location, layer)] = state_dict"
      ],
      "metadata": {
        "id": "CGrUdA_k3iqx"
      },
      "id": "CGrUdA_k3iqx",
      "execution_count": null,
      "outputs": []
    },
    {
      "cell_type": "code",
      "source": [
        "v5_128k_scores = get_scores(state_dicts_v5_128k)"
      ],
      "metadata": {
        "id": "zPQsAEQYCfyw"
      },
      "execution_count": null,
      "outputs": [],
      "id": "zPQsAEQYCfyw"
    },
    {
      "cell_type": "code",
      "source": [
        "sparsity_sores = v5_128k_scores['sparsity_scores']\n",
        "layer_names = v5_128k_scores['layer_names']\n",
        "reconstruction_losses = v5_128k_scores['reconstruction_losses']\n",
        "\n",
        "fig, axes = plt.subplots(2, figsize = (10,10))\n",
        "x = range(len(layer_names))\n",
        "axes[0].plot(x, [r.detach().cpu() for r in reconstruction_losses], label = 'reconstruction loss', c  ='r')\n",
        "axes[1].plot(x , [ss.detach().cpu() for ss in sparsity_sores], label = 'L0 sparsity')\n",
        "axes[0].grid(1)\n",
        "axes[1].grid(1)\n",
        "axes[0].legend()\n",
        "axes[1].legend()\n",
        "axes[1].set_xticks(x)\n",
        "axes[1].set_xticks(x)\n",
        "axes[1].set_xticklabels(layer_names, rotation = 90)\n",
        "plt.show()"
      ],
      "metadata": {
        "id": "W-WzW6SiCkJy"
      },
      "id": "W-WzW6SiCkJy",
      "execution_count": null,
      "outputs": []
    },
    {
      "cell_type": "code",
      "source": [
        "plt.scatter(y = [r.detach().cpu() for r in reconstruction_losses], x = [ss.detach().cpu() for ss in sparsity_sores], c= 'g')\n",
        "plt.ylabel('reconstruction loss')\n",
        "plt.xlabel('sparsity')\n",
        "plt.grid(1)"
      ],
      "metadata": {
        "id": "bXUBxSh1FqLi"
      },
      "id": "bXUBxSh1FqLi",
      "execution_count": null,
      "outputs": []
    },
    {
      "cell_type": "code",
      "source": [
        "from google.colab import drive\n",
        "drive.mount('/content/drive', force_remount=True)\n",
        "torch.save(state_dicts_v5_128k, '/content/drive/MyDrive/models/sae/state_dicts_v5_128k.pt')"
      ],
      "metadata": {
        "id": "cmi9LLiFeXm7"
      },
      "id": "cmi9LLiFeXm7",
      "execution_count": null,
      "outputs": []
    }
  ],
  "metadata": {
    "kernelspec": {
      "display_name": "Python 3",
      "name": "python3"
    },
    "language_info": {
      "codemirror_mode": {
        "name": "ipython",
        "version": 3
      },
      "file_extension": ".py",
      "mimetype": "text/x-python",
      "name": "python",
      "nbconvert_exporter": "python",
      "pygments_lexer": "ipython3",
      "version": "3.11.0"
    },
    "colab": {
      "provenance": [],
      "machine_shape": "hm",
      "include_colab_link": true
    }
  },
  "nbformat": 4,
  "nbformat_minor": 5
}